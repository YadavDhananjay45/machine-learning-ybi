{
  "nbformat": 4,
  "nbformat_minor": 0,
  "metadata": {
    "colab": {
      "provenance": []
    },
    "kernelspec": {
      "name": "python3",
      "display_name": "Python 3"
    },
    "language_info": {
      "name": "python"
    }
  },
  "cells": [
    {
      "cell_type": "code",
      "execution_count": 1,
      "metadata": {
        "id": "nhLitAcjH00n"
      },
      "outputs": [],
      "source": [
        "import pandas as pd"
      ]
    },
    {
      "cell_type": "code",
      "source": [
        "cement=pd.read_csv('https://raw.githubusercontent.com/ybifoundation/Dataset/main/Concrete%20Compressive%20Strength.csv')"
      ],
      "metadata": {
        "id": "LLl8-VsSH54G"
      },
      "execution_count": 2,
      "outputs": []
    },
    {
      "cell_type": "code",
      "source": [
        "cement.head()"
      ],
      "metadata": {
        "id": "6EGFeBeFIF6y",
        "colab": {
          "base_uri": "https://localhost:8080/",
          "height": 285
        },
        "outputId": "60a5e00d-7e27-4c61-81a9-29ccef7fa82c"
      },
      "execution_count": 3,
      "outputs": [
        {
          "output_type": "execute_result",
          "data": {
            "text/plain": [
              "   Cement (kg in a m^3 mixture)  Blast Furnace Slag (kg in a m^3 mixture)  \\\n",
              "0                         540.0                                       0.0   \n",
              "1                         540.0                                       0.0   \n",
              "2                         332.5                                     142.5   \n",
              "3                         332.5                                     142.5   \n",
              "4                         198.6                                     132.4   \n",
              "\n",
              "   Fly Ash (kg in a m^3 mixture)  Water (kg in a m^3 mixture)  \\\n",
              "0                            0.0                        162.0   \n",
              "1                            0.0                        162.0   \n",
              "2                            0.0                        228.0   \n",
              "3                            0.0                        228.0   \n",
              "4                            0.0                        192.0   \n",
              "\n",
              "   Superplasticizer (kg in a m^3 mixture)  \\\n",
              "0                                     2.5   \n",
              "1                                     2.5   \n",
              "2                                     0.0   \n",
              "3                                     0.0   \n",
              "4                                     0.0   \n",
              "\n",
              "   Coarse Aggregate (kg in a m^3 mixture)  \\\n",
              "0                                  1040.0   \n",
              "1                                  1055.0   \n",
              "2                                   932.0   \n",
              "3                                   932.0   \n",
              "4                                   978.4   \n",
              "\n",
              "   Fine Aggregate (kg in a m^3 mixture)  Age (day)  \\\n",
              "0                                 676.0         28   \n",
              "1                                 676.0         28   \n",
              "2                                 594.0        270   \n",
              "3                                 594.0        365   \n",
              "4                                 825.5        360   \n",
              "\n",
              "   Concrete Compressive Strength(MPa, megapascals)   \n",
              "0                                         79.986111  \n",
              "1                                         61.887366  \n",
              "2                                         40.269535  \n",
              "3                                         41.052780  \n",
              "4                                         44.296075  "
            ],
            "text/html": [
              "\n",
              "  <div id=\"df-99093cd8-0cb1-40b0-abd4-4a140d2cbeb1\">\n",
              "    <div class=\"colab-df-container\">\n",
              "      <div>\n",
              "<style scoped>\n",
              "    .dataframe tbody tr th:only-of-type {\n",
              "        vertical-align: middle;\n",
              "    }\n",
              "\n",
              "    .dataframe tbody tr th {\n",
              "        vertical-align: top;\n",
              "    }\n",
              "\n",
              "    .dataframe thead th {\n",
              "        text-align: right;\n",
              "    }\n",
              "</style>\n",
              "<table border=\"1\" class=\"dataframe\">\n",
              "  <thead>\n",
              "    <tr style=\"text-align: right;\">\n",
              "      <th></th>\n",
              "      <th>Cement (kg in a m^3 mixture)</th>\n",
              "      <th>Blast Furnace Slag (kg in a m^3 mixture)</th>\n",
              "      <th>Fly Ash (kg in a m^3 mixture)</th>\n",
              "      <th>Water (kg in a m^3 mixture)</th>\n",
              "      <th>Superplasticizer (kg in a m^3 mixture)</th>\n",
              "      <th>Coarse Aggregate (kg in a m^3 mixture)</th>\n",
              "      <th>Fine Aggregate (kg in a m^3 mixture)</th>\n",
              "      <th>Age (day)</th>\n",
              "      <th>Concrete Compressive Strength(MPa, megapascals)</th>\n",
              "    </tr>\n",
              "  </thead>\n",
              "  <tbody>\n",
              "    <tr>\n",
              "      <th>0</th>\n",
              "      <td>540.0</td>\n",
              "      <td>0.0</td>\n",
              "      <td>0.0</td>\n",
              "      <td>162.0</td>\n",
              "      <td>2.5</td>\n",
              "      <td>1040.0</td>\n",
              "      <td>676.0</td>\n",
              "      <td>28</td>\n",
              "      <td>79.986111</td>\n",
              "    </tr>\n",
              "    <tr>\n",
              "      <th>1</th>\n",
              "      <td>540.0</td>\n",
              "      <td>0.0</td>\n",
              "      <td>0.0</td>\n",
              "      <td>162.0</td>\n",
              "      <td>2.5</td>\n",
              "      <td>1055.0</td>\n",
              "      <td>676.0</td>\n",
              "      <td>28</td>\n",
              "      <td>61.887366</td>\n",
              "    </tr>\n",
              "    <tr>\n",
              "      <th>2</th>\n",
              "      <td>332.5</td>\n",
              "      <td>142.5</td>\n",
              "      <td>0.0</td>\n",
              "      <td>228.0</td>\n",
              "      <td>0.0</td>\n",
              "      <td>932.0</td>\n",
              "      <td>594.0</td>\n",
              "      <td>270</td>\n",
              "      <td>40.269535</td>\n",
              "    </tr>\n",
              "    <tr>\n",
              "      <th>3</th>\n",
              "      <td>332.5</td>\n",
              "      <td>142.5</td>\n",
              "      <td>0.0</td>\n",
              "      <td>228.0</td>\n",
              "      <td>0.0</td>\n",
              "      <td>932.0</td>\n",
              "      <td>594.0</td>\n",
              "      <td>365</td>\n",
              "      <td>41.052780</td>\n",
              "    </tr>\n",
              "    <tr>\n",
              "      <th>4</th>\n",
              "      <td>198.6</td>\n",
              "      <td>132.4</td>\n",
              "      <td>0.0</td>\n",
              "      <td>192.0</td>\n",
              "      <td>0.0</td>\n",
              "      <td>978.4</td>\n",
              "      <td>825.5</td>\n",
              "      <td>360</td>\n",
              "      <td>44.296075</td>\n",
              "    </tr>\n",
              "  </tbody>\n",
              "</table>\n",
              "</div>\n",
              "      <button class=\"colab-df-convert\" onclick=\"convertToInteractive('df-99093cd8-0cb1-40b0-abd4-4a140d2cbeb1')\"\n",
              "              title=\"Convert this dataframe to an interactive table.\"\n",
              "              style=\"display:none;\">\n",
              "        \n",
              "  <svg xmlns=\"http://www.w3.org/2000/svg\" height=\"24px\"viewBox=\"0 0 24 24\"\n",
              "       width=\"24px\">\n",
              "    <path d=\"M0 0h24v24H0V0z\" fill=\"none\"/>\n",
              "    <path d=\"M18.56 5.44l.94 2.06.94-2.06 2.06-.94-2.06-.94-.94-2.06-.94 2.06-2.06.94zm-11 1L8.5 8.5l.94-2.06 2.06-.94-2.06-.94L8.5 2.5l-.94 2.06-2.06.94zm10 10l.94 2.06.94-2.06 2.06-.94-2.06-.94-.94-2.06-.94 2.06-2.06.94z\"/><path d=\"M17.41 7.96l-1.37-1.37c-.4-.4-.92-.59-1.43-.59-.52 0-1.04.2-1.43.59L10.3 9.45l-7.72 7.72c-.78.78-.78 2.05 0 2.83L4 21.41c.39.39.9.59 1.41.59.51 0 1.02-.2 1.41-.59l7.78-7.78 2.81-2.81c.8-.78.8-2.07 0-2.86zM5.41 20L4 18.59l7.72-7.72 1.47 1.35L5.41 20z\"/>\n",
              "  </svg>\n",
              "      </button>\n",
              "      \n",
              "  <style>\n",
              "    .colab-df-container {\n",
              "      display:flex;\n",
              "      flex-wrap:wrap;\n",
              "      gap: 12px;\n",
              "    }\n",
              "\n",
              "    .colab-df-convert {\n",
              "      background-color: #E8F0FE;\n",
              "      border: none;\n",
              "      border-radius: 50%;\n",
              "      cursor: pointer;\n",
              "      display: none;\n",
              "      fill: #1967D2;\n",
              "      height: 32px;\n",
              "      padding: 0 0 0 0;\n",
              "      width: 32px;\n",
              "    }\n",
              "\n",
              "    .colab-df-convert:hover {\n",
              "      background-color: #E2EBFA;\n",
              "      box-shadow: 0px 1px 2px rgba(60, 64, 67, 0.3), 0px 1px 3px 1px rgba(60, 64, 67, 0.15);\n",
              "      fill: #174EA6;\n",
              "    }\n",
              "\n",
              "    [theme=dark] .colab-df-convert {\n",
              "      background-color: #3B4455;\n",
              "      fill: #D2E3FC;\n",
              "    }\n",
              "\n",
              "    [theme=dark] .colab-df-convert:hover {\n",
              "      background-color: #434B5C;\n",
              "      box-shadow: 0px 1px 3px 1px rgba(0, 0, 0, 0.15);\n",
              "      filter: drop-shadow(0px 1px 2px rgba(0, 0, 0, 0.3));\n",
              "      fill: #FFFFFF;\n",
              "    }\n",
              "  </style>\n",
              "\n",
              "      <script>\n",
              "        const buttonEl =\n",
              "          document.querySelector('#df-99093cd8-0cb1-40b0-abd4-4a140d2cbeb1 button.colab-df-convert');\n",
              "        buttonEl.style.display =\n",
              "          google.colab.kernel.accessAllowed ? 'block' : 'none';\n",
              "\n",
              "        async function convertToInteractive(key) {\n",
              "          const element = document.querySelector('#df-99093cd8-0cb1-40b0-abd4-4a140d2cbeb1');\n",
              "          const dataTable =\n",
              "            await google.colab.kernel.invokeFunction('convertToInteractive',\n",
              "                                                     [key], {});\n",
              "          if (!dataTable) return;\n",
              "\n",
              "          const docLinkHtml = 'Like what you see? Visit the ' +\n",
              "            '<a target=\"_blank\" href=https://colab.research.google.com/notebooks/data_table.ipynb>data table notebook</a>'\n",
              "            + ' to learn more about interactive tables.';\n",
              "          element.innerHTML = '';\n",
              "          dataTable['output_type'] = 'display_data';\n",
              "          await google.colab.output.renderOutput(dataTable, element);\n",
              "          const docLink = document.createElement('div');\n",
              "          docLink.innerHTML = docLinkHtml;\n",
              "          element.appendChild(docLink);\n",
              "        }\n",
              "      </script>\n",
              "    </div>\n",
              "  </div>\n",
              "  "
            ]
          },
          "metadata": {},
          "execution_count": 3
        }
      ]
    },
    {
      "cell_type": "code",
      "source": [
        "cement.info()"
      ],
      "metadata": {
        "id": "tS0nx2J2IJEk",
        "colab": {
          "base_uri": "https://localhost:8080/"
        },
        "outputId": "75422350-e315-46ff-d8de-60bb1da35555"
      },
      "execution_count": 4,
      "outputs": [
        {
          "output_type": "stream",
          "name": "stdout",
          "text": [
            "<class 'pandas.core.frame.DataFrame'>\n",
            "RangeIndex: 1030 entries, 0 to 1029\n",
            "Data columns (total 9 columns):\n",
            " #   Column                                            Non-Null Count  Dtype  \n",
            "---  ------                                            --------------  -----  \n",
            " 0   Cement (kg in a m^3 mixture)                      1030 non-null   float64\n",
            " 1   Blast Furnace Slag (kg in a m^3 mixture)          1030 non-null   float64\n",
            " 2   Fly Ash (kg in a m^3 mixture)                     1030 non-null   float64\n",
            " 3   Water (kg in a m^3 mixture)                       1030 non-null   float64\n",
            " 4   Superplasticizer (kg in a m^3 mixture)            1030 non-null   float64\n",
            " 5   Coarse Aggregate (kg in a m^3 mixture)            1030 non-null   float64\n",
            " 6   Fine Aggregate (kg in a m^3 mixture)              1030 non-null   float64\n",
            " 7   Age (day)                                         1030 non-null   int64  \n",
            " 8   Concrete Compressive Strength(MPa, megapascals)   1030 non-null   float64\n",
            "dtypes: float64(8), int64(1)\n",
            "memory usage: 72.5 KB\n"
          ]
        }
      ]
    },
    {
      "cell_type": "code",
      "source": [
        "cement.describe()"
      ],
      "metadata": {
        "id": "8Dfx3B6fINqR",
        "colab": {
          "base_uri": "https://localhost:8080/",
          "height": 379
        },
        "outputId": "7d2fb7eb-08de-465f-d6b9-7ead199aeafb"
      },
      "execution_count": 5,
      "outputs": [
        {
          "output_type": "execute_result",
          "data": {
            "text/plain": [
              "       Cement (kg in a m^3 mixture)  Blast Furnace Slag (kg in a m^3 mixture)  \\\n",
              "count                   1030.000000                               1030.000000   \n",
              "mean                     281.165631                                 73.895485   \n",
              "std                      104.507142                                 86.279104   \n",
              "min                      102.000000                                  0.000000   \n",
              "25%                      192.375000                                  0.000000   \n",
              "50%                      272.900000                                 22.000000   \n",
              "75%                      350.000000                                142.950000   \n",
              "max                      540.000000                                359.400000   \n",
              "\n",
              "       Fly Ash (kg in a m^3 mixture)  Water (kg in a m^3 mixture)  \\\n",
              "count                    1030.000000                  1030.000000   \n",
              "mean                       54.187136                   181.566359   \n",
              "std                        63.996469                    21.355567   \n",
              "min                         0.000000                   121.750000   \n",
              "25%                         0.000000                   164.900000   \n",
              "50%                         0.000000                   185.000000   \n",
              "75%                       118.270000                   192.000000   \n",
              "max                       200.100000                   247.000000   \n",
              "\n",
              "       Superplasticizer (kg in a m^3 mixture)  \\\n",
              "count                             1030.000000   \n",
              "mean                                 6.203112   \n",
              "std                                  5.973492   \n",
              "min                                  0.000000   \n",
              "25%                                  0.000000   \n",
              "50%                                  6.350000   \n",
              "75%                                 10.160000   \n",
              "max                                 32.200000   \n",
              "\n",
              "       Coarse Aggregate (kg in a m^3 mixture)  \\\n",
              "count                             1030.000000   \n",
              "mean                               972.918592   \n",
              "std                                 77.753818   \n",
              "min                                801.000000   \n",
              "25%                                932.000000   \n",
              "50%                                968.000000   \n",
              "75%                               1029.400000   \n",
              "max                               1145.000000   \n",
              "\n",
              "       Fine Aggregate (kg in a m^3 mixture)    Age (day)  \\\n",
              "count                           1030.000000  1030.000000   \n",
              "mean                             773.578883    45.662136   \n",
              "std                               80.175427    63.169912   \n",
              "min                              594.000000     1.000000   \n",
              "25%                              730.950000     7.000000   \n",
              "50%                              779.510000    28.000000   \n",
              "75%                              824.000000    56.000000   \n",
              "max                              992.600000   365.000000   \n",
              "\n",
              "       Concrete Compressive Strength(MPa, megapascals)   \n",
              "count                                       1030.000000  \n",
              "mean                                          35.817836  \n",
              "std                                           16.705679  \n",
              "min                                            2.331808  \n",
              "25%                                           23.707115  \n",
              "50%                                           34.442774  \n",
              "75%                                           46.136287  \n",
              "max                                           82.599225  "
            ],
            "text/html": [
              "\n",
              "  <div id=\"df-279ad714-5a4a-46e0-984c-e2efa44e54c9\">\n",
              "    <div class=\"colab-df-container\">\n",
              "      <div>\n",
              "<style scoped>\n",
              "    .dataframe tbody tr th:only-of-type {\n",
              "        vertical-align: middle;\n",
              "    }\n",
              "\n",
              "    .dataframe tbody tr th {\n",
              "        vertical-align: top;\n",
              "    }\n",
              "\n",
              "    .dataframe thead th {\n",
              "        text-align: right;\n",
              "    }\n",
              "</style>\n",
              "<table border=\"1\" class=\"dataframe\">\n",
              "  <thead>\n",
              "    <tr style=\"text-align: right;\">\n",
              "      <th></th>\n",
              "      <th>Cement (kg in a m^3 mixture)</th>\n",
              "      <th>Blast Furnace Slag (kg in a m^3 mixture)</th>\n",
              "      <th>Fly Ash (kg in a m^3 mixture)</th>\n",
              "      <th>Water (kg in a m^3 mixture)</th>\n",
              "      <th>Superplasticizer (kg in a m^3 mixture)</th>\n",
              "      <th>Coarse Aggregate (kg in a m^3 mixture)</th>\n",
              "      <th>Fine Aggregate (kg in a m^3 mixture)</th>\n",
              "      <th>Age (day)</th>\n",
              "      <th>Concrete Compressive Strength(MPa, megapascals)</th>\n",
              "    </tr>\n",
              "  </thead>\n",
              "  <tbody>\n",
              "    <tr>\n",
              "      <th>count</th>\n",
              "      <td>1030.000000</td>\n",
              "      <td>1030.000000</td>\n",
              "      <td>1030.000000</td>\n",
              "      <td>1030.000000</td>\n",
              "      <td>1030.000000</td>\n",
              "      <td>1030.000000</td>\n",
              "      <td>1030.000000</td>\n",
              "      <td>1030.000000</td>\n",
              "      <td>1030.000000</td>\n",
              "    </tr>\n",
              "    <tr>\n",
              "      <th>mean</th>\n",
              "      <td>281.165631</td>\n",
              "      <td>73.895485</td>\n",
              "      <td>54.187136</td>\n",
              "      <td>181.566359</td>\n",
              "      <td>6.203112</td>\n",
              "      <td>972.918592</td>\n",
              "      <td>773.578883</td>\n",
              "      <td>45.662136</td>\n",
              "      <td>35.817836</td>\n",
              "    </tr>\n",
              "    <tr>\n",
              "      <th>std</th>\n",
              "      <td>104.507142</td>\n",
              "      <td>86.279104</td>\n",
              "      <td>63.996469</td>\n",
              "      <td>21.355567</td>\n",
              "      <td>5.973492</td>\n",
              "      <td>77.753818</td>\n",
              "      <td>80.175427</td>\n",
              "      <td>63.169912</td>\n",
              "      <td>16.705679</td>\n",
              "    </tr>\n",
              "    <tr>\n",
              "      <th>min</th>\n",
              "      <td>102.000000</td>\n",
              "      <td>0.000000</td>\n",
              "      <td>0.000000</td>\n",
              "      <td>121.750000</td>\n",
              "      <td>0.000000</td>\n",
              "      <td>801.000000</td>\n",
              "      <td>594.000000</td>\n",
              "      <td>1.000000</td>\n",
              "      <td>2.331808</td>\n",
              "    </tr>\n",
              "    <tr>\n",
              "      <th>25%</th>\n",
              "      <td>192.375000</td>\n",
              "      <td>0.000000</td>\n",
              "      <td>0.000000</td>\n",
              "      <td>164.900000</td>\n",
              "      <td>0.000000</td>\n",
              "      <td>932.000000</td>\n",
              "      <td>730.950000</td>\n",
              "      <td>7.000000</td>\n",
              "      <td>23.707115</td>\n",
              "    </tr>\n",
              "    <tr>\n",
              "      <th>50%</th>\n",
              "      <td>272.900000</td>\n",
              "      <td>22.000000</td>\n",
              "      <td>0.000000</td>\n",
              "      <td>185.000000</td>\n",
              "      <td>6.350000</td>\n",
              "      <td>968.000000</td>\n",
              "      <td>779.510000</td>\n",
              "      <td>28.000000</td>\n",
              "      <td>34.442774</td>\n",
              "    </tr>\n",
              "    <tr>\n",
              "      <th>75%</th>\n",
              "      <td>350.000000</td>\n",
              "      <td>142.950000</td>\n",
              "      <td>118.270000</td>\n",
              "      <td>192.000000</td>\n",
              "      <td>10.160000</td>\n",
              "      <td>1029.400000</td>\n",
              "      <td>824.000000</td>\n",
              "      <td>56.000000</td>\n",
              "      <td>46.136287</td>\n",
              "    </tr>\n",
              "    <tr>\n",
              "      <th>max</th>\n",
              "      <td>540.000000</td>\n",
              "      <td>359.400000</td>\n",
              "      <td>200.100000</td>\n",
              "      <td>247.000000</td>\n",
              "      <td>32.200000</td>\n",
              "      <td>1145.000000</td>\n",
              "      <td>992.600000</td>\n",
              "      <td>365.000000</td>\n",
              "      <td>82.599225</td>\n",
              "    </tr>\n",
              "  </tbody>\n",
              "</table>\n",
              "</div>\n",
              "      <button class=\"colab-df-convert\" onclick=\"convertToInteractive('df-279ad714-5a4a-46e0-984c-e2efa44e54c9')\"\n",
              "              title=\"Convert this dataframe to an interactive table.\"\n",
              "              style=\"display:none;\">\n",
              "        \n",
              "  <svg xmlns=\"http://www.w3.org/2000/svg\" height=\"24px\"viewBox=\"0 0 24 24\"\n",
              "       width=\"24px\">\n",
              "    <path d=\"M0 0h24v24H0V0z\" fill=\"none\"/>\n",
              "    <path d=\"M18.56 5.44l.94 2.06.94-2.06 2.06-.94-2.06-.94-.94-2.06-.94 2.06-2.06.94zm-11 1L8.5 8.5l.94-2.06 2.06-.94-2.06-.94L8.5 2.5l-.94 2.06-2.06.94zm10 10l.94 2.06.94-2.06 2.06-.94-2.06-.94-.94-2.06-.94 2.06-2.06.94z\"/><path d=\"M17.41 7.96l-1.37-1.37c-.4-.4-.92-.59-1.43-.59-.52 0-1.04.2-1.43.59L10.3 9.45l-7.72 7.72c-.78.78-.78 2.05 0 2.83L4 21.41c.39.39.9.59 1.41.59.51 0 1.02-.2 1.41-.59l7.78-7.78 2.81-2.81c.8-.78.8-2.07 0-2.86zM5.41 20L4 18.59l7.72-7.72 1.47 1.35L5.41 20z\"/>\n",
              "  </svg>\n",
              "      </button>\n",
              "      \n",
              "  <style>\n",
              "    .colab-df-container {\n",
              "      display:flex;\n",
              "      flex-wrap:wrap;\n",
              "      gap: 12px;\n",
              "    }\n",
              "\n",
              "    .colab-df-convert {\n",
              "      background-color: #E8F0FE;\n",
              "      border: none;\n",
              "      border-radius: 50%;\n",
              "      cursor: pointer;\n",
              "      display: none;\n",
              "      fill: #1967D2;\n",
              "      height: 32px;\n",
              "      padding: 0 0 0 0;\n",
              "      width: 32px;\n",
              "    }\n",
              "\n",
              "    .colab-df-convert:hover {\n",
              "      background-color: #E2EBFA;\n",
              "      box-shadow: 0px 1px 2px rgba(60, 64, 67, 0.3), 0px 1px 3px 1px rgba(60, 64, 67, 0.15);\n",
              "      fill: #174EA6;\n",
              "    }\n",
              "\n",
              "    [theme=dark] .colab-df-convert {\n",
              "      background-color: #3B4455;\n",
              "      fill: #D2E3FC;\n",
              "    }\n",
              "\n",
              "    [theme=dark] .colab-df-convert:hover {\n",
              "      background-color: #434B5C;\n",
              "      box-shadow: 0px 1px 3px 1px rgba(0, 0, 0, 0.15);\n",
              "      filter: drop-shadow(0px 1px 2px rgba(0, 0, 0, 0.3));\n",
              "      fill: #FFFFFF;\n",
              "    }\n",
              "  </style>\n",
              "\n",
              "      <script>\n",
              "        const buttonEl =\n",
              "          document.querySelector('#df-279ad714-5a4a-46e0-984c-e2efa44e54c9 button.colab-df-convert');\n",
              "        buttonEl.style.display =\n",
              "          google.colab.kernel.accessAllowed ? 'block' : 'none';\n",
              "\n",
              "        async function convertToInteractive(key) {\n",
              "          const element = document.querySelector('#df-279ad714-5a4a-46e0-984c-e2efa44e54c9');\n",
              "          const dataTable =\n",
              "            await google.colab.kernel.invokeFunction('convertToInteractive',\n",
              "                                                     [key], {});\n",
              "          if (!dataTable) return;\n",
              "\n",
              "          const docLinkHtml = 'Like what you see? Visit the ' +\n",
              "            '<a target=\"_blank\" href=https://colab.research.google.com/notebooks/data_table.ipynb>data table notebook</a>'\n",
              "            + ' to learn more about interactive tables.';\n",
              "          element.innerHTML = '';\n",
              "          dataTable['output_type'] = 'display_data';\n",
              "          await google.colab.output.renderOutput(dataTable, element);\n",
              "          const docLink = document.createElement('div');\n",
              "          docLink.innerHTML = docLinkHtml;\n",
              "          element.appendChild(docLink);\n",
              "        }\n",
              "      </script>\n",
              "    </div>\n",
              "  </div>\n",
              "  "
            ]
          },
          "metadata": {},
          "execution_count": 5
        }
      ]
    },
    {
      "cell_type": "code",
      "source": [
        "cement.nunique()"
      ],
      "metadata": {
        "colab": {
          "base_uri": "https://localhost:8080/"
        },
        "id": "Mt9h54ZbRA69",
        "outputId": "bb3d9464-639d-420b-93cb-07c016f64b51"
      },
      "execution_count": 7,
      "outputs": [
        {
          "output_type": "execute_result",
          "data": {
            "text/plain": [
              "Cement (kg in a m^3 mixture)                        280\n",
              "Blast Furnace Slag (kg in a m^3 mixture)            187\n",
              "Fly Ash (kg in a m^3 mixture)                       163\n",
              "Water (kg in a m^3 mixture)                         205\n",
              "Superplasticizer (kg in a m^3 mixture)              155\n",
              "Coarse Aggregate (kg in a m^3 mixture)              284\n",
              "Fine Aggregate (kg in a m^3 mixture)                304\n",
              "Age (day)                                            14\n",
              "Concrete Compressive Strength(MPa, megapascals)     938\n",
              "dtype: int64"
            ]
          },
          "metadata": {},
          "execution_count": 7
        }
      ]
    },
    {
      "cell_type": "code",
      "source": [
        "print(cement.columns)"
      ],
      "metadata": {
        "colab": {
          "base_uri": "https://localhost:8080/"
        },
        "id": "q31K_Qs3RJmH",
        "outputId": "6472b4b1-d8ca-4767-9a2b-6e31173f4a72"
      },
      "execution_count": 6,
      "outputs": [
        {
          "output_type": "stream",
          "name": "stdout",
          "text": [
            "Index(['Cement (kg in a m^3 mixture)',\n",
            "       'Blast Furnace Slag (kg in a m^3 mixture)',\n",
            "       'Fly Ash (kg in a m^3 mixture)', 'Water (kg in a m^3 mixture)',\n",
            "       'Superplasticizer (kg in a m^3 mixture)',\n",
            "       'Coarse Aggregate (kg in a m^3 mixture)',\n",
            "       'Fine Aggregate (kg in a m^3 mixture)', 'Age (day)',\n",
            "       'Concrete Compressive Strength(MPa, megapascals) '],\n",
            "      dtype='object')\n"
          ]
        }
      ]
    },
    {
      "cell_type": "code",
      "source": [
        "y=cement['Concrete Compressive Strength(MPa, megapascals) ']"
      ],
      "metadata": {
        "id": "IyYpZKANSBjC"
      },
      "execution_count": 8,
      "outputs": []
    },
    {
      "cell_type": "code",
      "source": [
        "x=cement[['Cement (kg in a m^3 mixture)',\n",
        "       'Blast Furnace Slag (kg in a m^3 mixture)',\n",
        "       'Fly Ash (kg in a m^3 mixture)', 'Water (kg in a m^3 mixture)',\n",
        "       'Superplasticizer (kg in a m^3 mixture)',\n",
        "       'Coarse Aggregate (kg in a m^3 mixture)',\n",
        "       'Fine Aggregate (kg in a m^3 mixture)', 'Age (day)']]"
      ],
      "metadata": {
        "id": "ZFdZgDf3S_0H"
      },
      "execution_count": 9,
      "outputs": []
    },
    {
      "cell_type": "code",
      "source": [
        "from sklearn.model_selection import train_test_split\n",
        "x_train,x_test,y_train,y_test=train_test_split(x,y,train_size=0.7,random_state=2529)\n"
      ],
      "metadata": {
        "id": "KCGP7DR_TYfN"
      },
      "execution_count": 10,
      "outputs": []
    },
    {
      "cell_type": "code",
      "source": [
        "x_train.shape,x_test.shape,y_train.shape,y_test.shape"
      ],
      "metadata": {
        "colab": {
          "base_uri": "https://localhost:8080/"
        },
        "id": "GOv9nv8JUneT",
        "outputId": "a0520733-458b-48f7-b1fe-dc7a50d2885c"
      },
      "execution_count": 11,
      "outputs": [
        {
          "output_type": "execute_result",
          "data": {
            "text/plain": [
              "((721, 8), (309, 8), (721,), (309,))"
            ]
          },
          "metadata": {},
          "execution_count": 11
        }
      ]
    },
    {
      "cell_type": "code",
      "source": [
        "from sklearn.linear_model import LinearRegression\n",
        "model=LinearRegression()"
      ],
      "metadata": {
        "id": "P_LT79_RVBhs"
      },
      "execution_count": 12,
      "outputs": []
    },
    {
      "cell_type": "code",
      "source": [
        "model.fit(x_train,y_train)"
      ],
      "metadata": {
        "colab": {
          "base_uri": "https://localhost:8080/"
        },
        "id": "LOiZ7zT-VUGw",
        "outputId": "fbfa6592-3a32-416c-af83-f52d1b19263b"
      },
      "execution_count": 13,
      "outputs": [
        {
          "output_type": "execute_result",
          "data": {
            "text/plain": [
              "LinearRegression()"
            ]
          },
          "metadata": {},
          "execution_count": 13
        }
      ]
    },
    {
      "cell_type": "code",
      "source": [
        "y_pred = model.predict(x_test)"
      ],
      "metadata": {
        "id": "kH37hTfvoF3D"
      },
      "execution_count": 16,
      "outputs": []
    },
    {
      "cell_type": "code",
      "source": [
        "from sklearn.metrics import mean_absolute_error,mean_absolute_percentage_error,mean_squared_error\n"
      ],
      "metadata": {
        "id": "V24_RV6ToTmq"
      },
      "execution_count": 17,
      "outputs": []
    },
    {
      "cell_type": "code",
      "source": [
        "mean_absolute_error(y_test,y_pred)"
      ],
      "metadata": {
        "colab": {
          "base_uri": "https://localhost:8080/"
        },
        "id": "zwbwCeHoowjx",
        "outputId": "4e6d7ac1-a368-4e9b-e5be-bf64ab4202b6"
      },
      "execution_count": 18,
      "outputs": [
        {
          "output_type": "execute_result",
          "data": {
            "text/plain": [
              "8.683767775410708"
            ]
          },
          "metadata": {},
          "execution_count": 18
        }
      ]
    },
    {
      "cell_type": "code",
      "source": [
        "mean_absolute_percentage_error(y_test,y_pred)"
      ],
      "metadata": {
        "colab": {
          "base_uri": "https://localhost:8080/"
        },
        "id": "PcK1JB9eo6oh",
        "outputId": "6d945b19-e5e3-423b-eb72-34906f30f256"
      },
      "execution_count": 19,
      "outputs": [
        {
          "output_type": "execute_result",
          "data": {
            "text/plain": [
              "0.3134440184320867"
            ]
          },
          "metadata": {},
          "execution_count": 19
        }
      ]
    },
    {
      "cell_type": "code",
      "source": [
        "mean_squared_error(y_test,y_pred)"
      ],
      "metadata": {
        "colab": {
          "base_uri": "https://localhost:8080/"
        },
        "id": "J9R3o3uxpCDV",
        "outputId": "6adeffbf-647e-41c9-df77-f14a3c55707f"
      },
      "execution_count": 20,
      "outputs": [
        {
          "output_type": "execute_result",
          "data": {
            "text/plain": [
              "120.40313453787677"
            ]
          },
          "metadata": {},
          "execution_count": 20
        }
      ]
    },
    {
      "cell_type": "code",
      "source": [
        "x.sample()"
      ],
      "metadata": {
        "colab": {
          "base_uri": "https://localhost:8080/",
          "height": 142
        },
        "id": "KDm5Bj7UpReB",
        "outputId": "02d72a8b-b0f8-4510-ecc6-0639b0d425c8"
      },
      "execution_count": 24,
      "outputs": [
        {
          "output_type": "execute_result",
          "data": {
            "text/plain": [
              "     Cement (kg in a m^3 mixture)  Blast Furnace Slag (kg in a m^3 mixture)  \\\n",
              "897                         284.0                                     120.0   \n",
              "\n",
              "     Fly Ash (kg in a m^3 mixture)  Water (kg in a m^3 mixture)  \\\n",
              "897                            0.0                        168.0   \n",
              "\n",
              "     Superplasticizer (kg in a m^3 mixture)  \\\n",
              "897                                     7.0   \n",
              "\n",
              "     Coarse Aggregate (kg in a m^3 mixture)  \\\n",
              "897                                   970.0   \n",
              "\n",
              "     Fine Aggregate (kg in a m^3 mixture)  Age (day)  \n",
              "897                                 794.0         28  "
            ],
            "text/html": [
              "\n",
              "  <div id=\"df-0ef1fb89-e7c1-4ab9-b6c1-97cfe1351d87\">\n",
              "    <div class=\"colab-df-container\">\n",
              "      <div>\n",
              "<style scoped>\n",
              "    .dataframe tbody tr th:only-of-type {\n",
              "        vertical-align: middle;\n",
              "    }\n",
              "\n",
              "    .dataframe tbody tr th {\n",
              "        vertical-align: top;\n",
              "    }\n",
              "\n",
              "    .dataframe thead th {\n",
              "        text-align: right;\n",
              "    }\n",
              "</style>\n",
              "<table border=\"1\" class=\"dataframe\">\n",
              "  <thead>\n",
              "    <tr style=\"text-align: right;\">\n",
              "      <th></th>\n",
              "      <th>Cement (kg in a m^3 mixture)</th>\n",
              "      <th>Blast Furnace Slag (kg in a m^3 mixture)</th>\n",
              "      <th>Fly Ash (kg in a m^3 mixture)</th>\n",
              "      <th>Water (kg in a m^3 mixture)</th>\n",
              "      <th>Superplasticizer (kg in a m^3 mixture)</th>\n",
              "      <th>Coarse Aggregate (kg in a m^3 mixture)</th>\n",
              "      <th>Fine Aggregate (kg in a m^3 mixture)</th>\n",
              "      <th>Age (day)</th>\n",
              "    </tr>\n",
              "  </thead>\n",
              "  <tbody>\n",
              "    <tr>\n",
              "      <th>897</th>\n",
              "      <td>284.0</td>\n",
              "      <td>120.0</td>\n",
              "      <td>0.0</td>\n",
              "      <td>168.0</td>\n",
              "      <td>7.0</td>\n",
              "      <td>970.0</td>\n",
              "      <td>794.0</td>\n",
              "      <td>28</td>\n",
              "    </tr>\n",
              "  </tbody>\n",
              "</table>\n",
              "</div>\n",
              "      <button class=\"colab-df-convert\" onclick=\"convertToInteractive('df-0ef1fb89-e7c1-4ab9-b6c1-97cfe1351d87')\"\n",
              "              title=\"Convert this dataframe to an interactive table.\"\n",
              "              style=\"display:none;\">\n",
              "        \n",
              "  <svg xmlns=\"http://www.w3.org/2000/svg\" height=\"24px\"viewBox=\"0 0 24 24\"\n",
              "       width=\"24px\">\n",
              "    <path d=\"M0 0h24v24H0V0z\" fill=\"none\"/>\n",
              "    <path d=\"M18.56 5.44l.94 2.06.94-2.06 2.06-.94-2.06-.94-.94-2.06-.94 2.06-2.06.94zm-11 1L8.5 8.5l.94-2.06 2.06-.94-2.06-.94L8.5 2.5l-.94 2.06-2.06.94zm10 10l.94 2.06.94-2.06 2.06-.94-2.06-.94-.94-2.06-.94 2.06-2.06.94z\"/><path d=\"M17.41 7.96l-1.37-1.37c-.4-.4-.92-.59-1.43-.59-.52 0-1.04.2-1.43.59L10.3 9.45l-7.72 7.72c-.78.78-.78 2.05 0 2.83L4 21.41c.39.39.9.59 1.41.59.51 0 1.02-.2 1.41-.59l7.78-7.78 2.81-2.81c.8-.78.8-2.07 0-2.86zM5.41 20L4 18.59l7.72-7.72 1.47 1.35L5.41 20z\"/>\n",
              "  </svg>\n",
              "      </button>\n",
              "      \n",
              "  <style>\n",
              "    .colab-df-container {\n",
              "      display:flex;\n",
              "      flex-wrap:wrap;\n",
              "      gap: 12px;\n",
              "    }\n",
              "\n",
              "    .colab-df-convert {\n",
              "      background-color: #E8F0FE;\n",
              "      border: none;\n",
              "      border-radius: 50%;\n",
              "      cursor: pointer;\n",
              "      display: none;\n",
              "      fill: #1967D2;\n",
              "      height: 32px;\n",
              "      padding: 0 0 0 0;\n",
              "      width: 32px;\n",
              "    }\n",
              "\n",
              "    .colab-df-convert:hover {\n",
              "      background-color: #E2EBFA;\n",
              "      box-shadow: 0px 1px 2px rgba(60, 64, 67, 0.3), 0px 1px 3px 1px rgba(60, 64, 67, 0.15);\n",
              "      fill: #174EA6;\n",
              "    }\n",
              "\n",
              "    [theme=dark] .colab-df-convert {\n",
              "      background-color: #3B4455;\n",
              "      fill: #D2E3FC;\n",
              "    }\n",
              "\n",
              "    [theme=dark] .colab-df-convert:hover {\n",
              "      background-color: #434B5C;\n",
              "      box-shadow: 0px 1px 3px 1px rgba(0, 0, 0, 0.15);\n",
              "      filter: drop-shadow(0px 1px 2px rgba(0, 0, 0, 0.3));\n",
              "      fill: #FFFFFF;\n",
              "    }\n",
              "  </style>\n",
              "\n",
              "      <script>\n",
              "        const buttonEl =\n",
              "          document.querySelector('#df-0ef1fb89-e7c1-4ab9-b6c1-97cfe1351d87 button.colab-df-convert');\n",
              "        buttonEl.style.display =\n",
              "          google.colab.kernel.accessAllowed ? 'block' : 'none';\n",
              "\n",
              "        async function convertToInteractive(key) {\n",
              "          const element = document.querySelector('#df-0ef1fb89-e7c1-4ab9-b6c1-97cfe1351d87');\n",
              "          const dataTable =\n",
              "            await google.colab.kernel.invokeFunction('convertToInteractive',\n",
              "                                                     [key], {});\n",
              "          if (!dataTable) return;\n",
              "\n",
              "          const docLinkHtml = 'Like what you see? Visit the ' +\n",
              "            '<a target=\"_blank\" href=https://colab.research.google.com/notebooks/data_table.ipynb>data table notebook</a>'\n",
              "            + ' to learn more about interactive tables.';\n",
              "          element.innerHTML = '';\n",
              "          dataTable['output_type'] = 'display_data';\n",
              "          await google.colab.output.renderOutput(dataTable, element);\n",
              "          const docLink = document.createElement('div');\n",
              "          docLink.innerHTML = docLinkHtml;\n",
              "          element.appendChild(docLink);\n",
              "        }\n",
              "      </script>\n",
              "    </div>\n",
              "  </div>\n",
              "  "
            ]
          },
          "metadata": {},
          "execution_count": 24
        }
      ]
    },
    {
      "cell_type": "code",
      "source": [
        "x_new=x.sample()"
      ],
      "metadata": {
        "id": "_omDIA6ep2io"
      },
      "execution_count": 25,
      "outputs": []
    },
    {
      "cell_type": "code",
      "source": [
        "model.predict(x_new)"
      ],
      "metadata": {
        "colab": {
          "base_uri": "https://localhost:8080/"
        },
        "id": "40rqLdASqFm9",
        "outputId": "92384b24-ee93-4469-c1de-d677f4327a3c"
      },
      "execution_count": 27,
      "outputs": [
        {
          "output_type": "execute_result",
          "data": {
            "text/plain": [
              "array([19.07881575])"
            ]
          },
          "metadata": {},
          "execution_count": 27
        }
      ]
    }
  ]
}